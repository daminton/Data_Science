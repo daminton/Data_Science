{
 "metadata": {
  "language_info": {
   "codemirror_mode": {
    "name": "ipython",
    "version": 3
   },
   "file_extension": ".py",
   "mimetype": "text/x-python",
   "name": "python",
   "nbconvert_exporter": "python",
   "pygments_lexer": "ipython3",
   "version": "3.9.0-final"
  },
  "orig_nbformat": 2,
  "kernelspec": {
   "name": "python3",
   "display_name": "Python 3.9.0 64-bit",
   "metadata": {
    "interpreter": {
     "hash": "63fd5069d213b44bf678585dea6b12cceca9941eaf7f819626cde1f2670de90d"
    }
   }
  }
 },
 "nbformat": 4,
 "nbformat_minor": 2,
 "cells": [
  {
   "cell_type": "code",
   "execution_count": 1,
   "metadata": {},
   "outputs": [],
   "source": [
    "import numpy as np"
   ]
  },
  {
   "cell_type": "code",
   "execution_count": 2,
   "metadata": {},
   "outputs": [],
   "source": [
    "import pandas as pd"
   ]
  },
  {
   "source": [
    "1.     Create a 5x7 NumPy array filled with random numbers. Use fancy indexing to access the following entries (row, col): (1,3),(4,5),(3,2), and (0,6)."
   ],
   "cell_type": "markdown",
   "metadata": {}
  },
  {
   "cell_type": "code",
   "execution_count": 3,
   "metadata": {},
   "outputs": [],
   "source": [
    "array = np.random.randint(10,90,(5,7))"
   ]
  },
  {
   "cell_type": "code",
   "execution_count": 4,
   "metadata": {},
   "outputs": [
    {
     "output_type": "execute_result",
     "data": {
      "text/plain": [
       "array([[75, 30, 84, 27, 89, 38, 57],\n",
       "       [21, 67, 16, 88, 85, 67, 74],\n",
       "       [24, 31, 65, 14, 10, 14, 45],\n",
       "       [65, 20, 15, 43, 54, 89, 31],\n",
       "       [12, 12, 72, 89, 60, 67, 65]])"
      ]
     },
     "metadata": {},
     "execution_count": 4
    }
   ],
   "source": [
    "array"
   ]
  },
  {
   "cell_type": "code",
   "execution_count": 5,
   "metadata": {},
   "outputs": [
    {
     "output_type": "execute_result",
     "data": {
      "text/plain": [
       "88"
      ]
     },
     "metadata": {},
     "execution_count": 5
    }
   ],
   "source": [
    "array[1,3]"
   ]
  },
  {
   "cell_type": "code",
   "execution_count": 6,
   "metadata": {},
   "outputs": [
    {
     "output_type": "execute_result",
     "data": {
      "text/plain": [
       "67"
      ]
     },
     "metadata": {},
     "execution_count": 6
    }
   ],
   "source": [
    "array[4,5]\n"
   ]
  },
  {
   "cell_type": "code",
   "execution_count": 7,
   "metadata": {},
   "outputs": [
    {
     "output_type": "execute_result",
     "data": {
      "text/plain": [
       "15"
      ]
     },
     "metadata": {},
     "execution_count": 7
    }
   ],
   "source": [
    "array[3,2]"
   ]
  },
  {
   "cell_type": "code",
   "execution_count": 8,
   "metadata": {},
   "outputs": [
    {
     "output_type": "execute_result",
     "data": {
      "text/plain": [
       "57"
      ]
     },
     "metadata": {},
     "execution_count": 8
    }
   ],
   "source": [
    "array[0,6]"
   ]
  },
  {
   "source": [
    "2.     Explain what np.newxis does and provide an example of how one might use it.\n",
    "\n"
   ],
   "cell_type": "markdown",
   "metadata": {}
  },
  {
   "source": [
    "#np.newxis is used to increse the dimension of the array by one. Thus, a 1D array will become a 2D array. An example of it in use is in broadcasting."
   ],
   "cell_type": "code",
   "metadata": {},
   "execution_count": 9,
   "outputs": []
  },
  {
   "cell_type": "code",
   "execution_count": 10,
   "metadata": {},
   "outputs": [
    {
     "output_type": "execute_result",
     "data": {
      "text/plain": [
       "array([[ 6,  5,  4],\n",
       "       [ 7,  6,  5],\n",
       "       [ 8,  7,  6],\n",
       "       [ 9,  8,  7],\n",
       "       [10,  9,  8]])"
      ]
     },
     "metadata": {},
     "execution_count": 10
    }
   ],
   "source": [
    " x1 = np.array([1, 2, 3, 4, 5])\n",
    " x2 = np.array([5, 4, 3])\n",
    " #if you try and add these you will get a value error... these are different dimensional arrays... thus \n",
    "x1_new = x1[:, np.newaxis]\n",
    "x1_new + x2"
   ]
  },
  {
   "source": [
    "3.     What sorting method does np.sort use and what is its runtime complexity (Big-O)? What does this mean?"
   ],
   "cell_type": "markdown",
   "metadata": {}
  },
  {
   "cell_type": "code",
   "execution_count": 11,
   "metadata": {},
   "outputs": [],
   "source": [
    "#by default numpy uses quicksort, but mergesort and heapsort are also avaliable\n",
    "\n",
    "# Quicksort has a worst case Big O notation of O(n^2)and best case of O(nlogn)\n",
    "\n",
    "#This means that the excecution time/space (\"describing how the number of operations required for an algorithm scales as the input grows in size\") used is either O(n^2) to O(nlogn)."
   ]
  },
  {
   "source": [
    "4.     Given the following NumPy array: [4,1,5,2,7,3], what are the indices of the sorted order?\n",
    "\n"
   ],
   "cell_type": "markdown",
   "metadata": {}
  },
  {
   "cell_type": "code",
   "execution_count": 12,
   "metadata": {},
   "outputs": [],
   "source": [
    "x = np.array([4,1,5,2,7,3])"
   ]
  },
  {
   "cell_type": "code",
   "execution_count": 13,
   "metadata": {},
   "outputs": [
    {
     "output_type": "execute_result",
     "data": {
      "text/plain": [
       "array([1, 3, 5, 0, 2, 4], dtype=int64)"
      ]
     },
     "metadata": {},
     "execution_count": 13
    }
   ],
   "source": [
    "#gives indices of sorted order\n",
    "np.argsort(x)"
   ]
  },
  {
   "source": [
    "5.     Using the array from #1, sort the columns.\n",
    "\n"
   ],
   "cell_type": "markdown",
   "metadata": {}
  },
  {
   "cell_type": "code",
   "execution_count": 14,
   "metadata": {},
   "outputs": [
    {
     "output_type": "execute_result",
     "data": {
      "text/plain": [
       "array([[12, 12, 15, 14, 10, 14, 31],\n",
       "       [21, 20, 16, 27, 54, 38, 45],\n",
       "       [24, 30, 65, 43, 60, 67, 57],\n",
       "       [65, 31, 72, 88, 85, 67, 65],\n",
       "       [75, 67, 84, 89, 89, 89, 74]])"
      ]
     },
     "metadata": {},
     "execution_count": 14
    }
   ],
   "source": [
    "# sort each column of array\n",
    "np.sort(array, axis=0)"
   ]
  },
  {
   "source": [
    "6.     Using the array from #1, sort the rows.\n",
    "\n"
   ],
   "cell_type": "markdown",
   "metadata": {}
  },
  {
   "cell_type": "code",
   "execution_count": 15,
   "metadata": {},
   "outputs": [
    {
     "output_type": "execute_result",
     "data": {
      "text/plain": [
       "array([[27, 30, 38, 57, 75, 84, 89],\n",
       "       [16, 21, 67, 67, 74, 85, 88],\n",
       "       [10, 14, 14, 24, 31, 45, 65],\n",
       "       [15, 20, 31, 43, 54, 65, 89],\n",
       "       [12, 12, 60, 65, 67, 72, 89]])"
      ]
     },
     "metadata": {},
     "execution_count": 15
    }
   ],
   "source": [
    "# sort each row of array\n",
    "np.sort(array, axis=1)"
   ]
  },
  {
   "source": [
    "7.     How is a structured array different from a traditional NumPy array, and why might one use it?"
   ],
   "cell_type": "markdown",
   "metadata": {}
  },
  {
   "cell_type": "code",
   "execution_count": 16,
   "metadata": {},
   "outputs": [],
   "source": [
    "#One might use a traditional numpy array if the data is represented by a homogeneous array of values where a structured array provides efficient storage for compound, heterogeneous data. For example, if you have three arrays that are related but are seperate one can structure the array so it is more workable."
   ]
  },
  {
   "source": [
    "8.     Complete the following exercise – activity created by Guilherme Samora.\n",
    "\n"
   ],
   "cell_type": "markdown",
   "metadata": {}
  },
  {
   "source": [
    "a.     Import two datasets: cars1 and cars2.\n",
    "\n"
   ],
   "cell_type": "markdown",
   "metadata": {}
  },
  {
   "cell_type": "code",
   "execution_count": 17,
   "metadata": {},
   "outputs": [],
   "source": [
    "cars1 = pd.read_csv('../csv_files/cars1.csv')  \n",
    "cars2 = pd.read_csv('../csv_files/cars2.csv')  "
   ]
  },
  {
   "source": [
    "b.     Print the top five rows of each.\n",
    "\n"
   ],
   "cell_type": "markdown",
   "metadata": {}
  },
  {
   "cell_type": "code",
   "execution_count": 18,
   "metadata": {},
   "outputs": [
    {
     "output_type": "execute_result",
     "data": {
      "text/plain": [
       "    mpg  cylinders  displacement horsepower  weight  acceleration  model  \\\n",
       "0  18.0          8           307        130    3504          12.0     70   \n",
       "1  15.0          8           350        165    3693          11.5     70   \n",
       "2  18.0          8           318        150    3436          11.0     70   \n",
       "3  16.0          8           304        150    3433          12.0     70   \n",
       "4  17.0          8           302        140    3449          10.5     70   \n",
       "\n",
       "   origin                        car  Unnamed: 9  Unnamed: 10  Unnamed: 11  \\\n",
       "0       1  chevrolet chevelle malibu         NaN          NaN          NaN   \n",
       "1       1          buick skylark 320         NaN          NaN          NaN   \n",
       "2       1         plymouth satellite         NaN          NaN          NaN   \n",
       "3       1              amc rebel sst         NaN          NaN          NaN   \n",
       "4       1                ford torino         NaN          NaN          NaN   \n",
       "\n",
       "   Unnamed: 12  Unnamed: 13  \n",
       "0          NaN          NaN  \n",
       "1          NaN          NaN  \n",
       "2          NaN          NaN  \n",
       "3          NaN          NaN  \n",
       "4          NaN          NaN  "
      ],
      "text/html": "<div>\n<style scoped>\n    .dataframe tbody tr th:only-of-type {\n        vertical-align: middle;\n    }\n\n    .dataframe tbody tr th {\n        vertical-align: top;\n    }\n\n    .dataframe thead th {\n        text-align: right;\n    }\n</style>\n<table border=\"1\" class=\"dataframe\">\n  <thead>\n    <tr style=\"text-align: right;\">\n      <th></th>\n      <th>mpg</th>\n      <th>cylinders</th>\n      <th>displacement</th>\n      <th>horsepower</th>\n      <th>weight</th>\n      <th>acceleration</th>\n      <th>model</th>\n      <th>origin</th>\n      <th>car</th>\n      <th>Unnamed: 9</th>\n      <th>Unnamed: 10</th>\n      <th>Unnamed: 11</th>\n      <th>Unnamed: 12</th>\n      <th>Unnamed: 13</th>\n    </tr>\n  </thead>\n  <tbody>\n    <tr>\n      <th>0</th>\n      <td>18.0</td>\n      <td>8</td>\n      <td>307</td>\n      <td>130</td>\n      <td>3504</td>\n      <td>12.0</td>\n      <td>70</td>\n      <td>1</td>\n      <td>chevrolet chevelle malibu</td>\n      <td>NaN</td>\n      <td>NaN</td>\n      <td>NaN</td>\n      <td>NaN</td>\n      <td>NaN</td>\n    </tr>\n    <tr>\n      <th>1</th>\n      <td>15.0</td>\n      <td>8</td>\n      <td>350</td>\n      <td>165</td>\n      <td>3693</td>\n      <td>11.5</td>\n      <td>70</td>\n      <td>1</td>\n      <td>buick skylark 320</td>\n      <td>NaN</td>\n      <td>NaN</td>\n      <td>NaN</td>\n      <td>NaN</td>\n      <td>NaN</td>\n    </tr>\n    <tr>\n      <th>2</th>\n      <td>18.0</td>\n      <td>8</td>\n      <td>318</td>\n      <td>150</td>\n      <td>3436</td>\n      <td>11.0</td>\n      <td>70</td>\n      <td>1</td>\n      <td>plymouth satellite</td>\n      <td>NaN</td>\n      <td>NaN</td>\n      <td>NaN</td>\n      <td>NaN</td>\n      <td>NaN</td>\n    </tr>\n    <tr>\n      <th>3</th>\n      <td>16.0</td>\n      <td>8</td>\n      <td>304</td>\n      <td>150</td>\n      <td>3433</td>\n      <td>12.0</td>\n      <td>70</td>\n      <td>1</td>\n      <td>amc rebel sst</td>\n      <td>NaN</td>\n      <td>NaN</td>\n      <td>NaN</td>\n      <td>NaN</td>\n      <td>NaN</td>\n    </tr>\n    <tr>\n      <th>4</th>\n      <td>17.0</td>\n      <td>8</td>\n      <td>302</td>\n      <td>140</td>\n      <td>3449</td>\n      <td>10.5</td>\n      <td>70</td>\n      <td>1</td>\n      <td>ford torino</td>\n      <td>NaN</td>\n      <td>NaN</td>\n      <td>NaN</td>\n      <td>NaN</td>\n      <td>NaN</td>\n    </tr>\n  </tbody>\n</table>\n</div>"
     },
     "metadata": {},
     "execution_count": 18
    }
   ],
   "source": [
    "cars1.head()"
   ]
  },
  {
   "cell_type": "code",
   "execution_count": 19,
   "metadata": {},
   "outputs": [
    {
     "output_type": "execute_result",
     "data": {
      "text/plain": [
       "    mpg  cylinders  displacement horsepower  weight  acceleration  model  \\\n",
       "0  33.0          4            91         53    1795          17.4     76   \n",
       "1  20.0          6           225        100    3651          17.7     76   \n",
       "2  18.0          6           250         78    3574          21.0     76   \n",
       "3  18.5          6           250        110    3645          16.2     76   \n",
       "4  17.5          6           258         95    3193          17.8     76   \n",
       "\n",
       "   origin                 car  \n",
       "0       3         honda civic  \n",
       "1       1      dodge aspen se  \n",
       "2       1   ford granada ghia  \n",
       "3       1  pontiac ventura sj  \n",
       "4       1       amc pacer d/l  "
      ],
      "text/html": "<div>\n<style scoped>\n    .dataframe tbody tr th:only-of-type {\n        vertical-align: middle;\n    }\n\n    .dataframe tbody tr th {\n        vertical-align: top;\n    }\n\n    .dataframe thead th {\n        text-align: right;\n    }\n</style>\n<table border=\"1\" class=\"dataframe\">\n  <thead>\n    <tr style=\"text-align: right;\">\n      <th></th>\n      <th>mpg</th>\n      <th>cylinders</th>\n      <th>displacement</th>\n      <th>horsepower</th>\n      <th>weight</th>\n      <th>acceleration</th>\n      <th>model</th>\n      <th>origin</th>\n      <th>car</th>\n    </tr>\n  </thead>\n  <tbody>\n    <tr>\n      <th>0</th>\n      <td>33.0</td>\n      <td>4</td>\n      <td>91</td>\n      <td>53</td>\n      <td>1795</td>\n      <td>17.4</td>\n      <td>76</td>\n      <td>3</td>\n      <td>honda civic</td>\n    </tr>\n    <tr>\n      <th>1</th>\n      <td>20.0</td>\n      <td>6</td>\n      <td>225</td>\n      <td>100</td>\n      <td>3651</td>\n      <td>17.7</td>\n      <td>76</td>\n      <td>1</td>\n      <td>dodge aspen se</td>\n    </tr>\n    <tr>\n      <th>2</th>\n      <td>18.0</td>\n      <td>6</td>\n      <td>250</td>\n      <td>78</td>\n      <td>3574</td>\n      <td>21.0</td>\n      <td>76</td>\n      <td>1</td>\n      <td>ford granada ghia</td>\n    </tr>\n    <tr>\n      <th>3</th>\n      <td>18.5</td>\n      <td>6</td>\n      <td>250</td>\n      <td>110</td>\n      <td>3645</td>\n      <td>16.2</td>\n      <td>76</td>\n      <td>1</td>\n      <td>pontiac ventura sj</td>\n    </tr>\n    <tr>\n      <th>4</th>\n      <td>17.5</td>\n      <td>6</td>\n      <td>258</td>\n      <td>95</td>\n      <td>3193</td>\n      <td>17.8</td>\n      <td>76</td>\n      <td>1</td>\n      <td>amc pacer d/l</td>\n    </tr>\n  </tbody>\n</table>\n</div>"
     },
     "metadata": {},
     "execution_count": 19
    }
   ],
   "source": [
    "cars2.head()"
   ]
  },
  {
   "source": [
    "c.      Clean cars1 removing any unnamed columns (hing: loc might be helpful)\n",
    "\n"
   ],
   "cell_type": "markdown",
   "metadata": {}
  },
  {
   "cell_type": "code",
   "execution_count": 20,
   "metadata": {},
   "outputs": [
    {
     "output_type": "execute_result",
     "data": {
      "text/plain": [
       "      mpg  cylinders  displacement horsepower  weight  acceleration  model  \\\n",
       "0    18.0          8           307        130    3504          12.0     70   \n",
       "1    15.0          8           350        165    3693          11.5     70   \n",
       "2    18.0          8           318        150    3436          11.0     70   \n",
       "3    16.0          8           304        150    3433          12.0     70   \n",
       "4    17.0          8           302        140    3449          10.5     70   \n",
       "..    ...        ...           ...        ...     ...           ...    ...   \n",
       "193  24.0          6           200         81    3012          17.6     76   \n",
       "194  22.5          6           232         90    3085          17.6     76   \n",
       "195  29.0          4            85         52    2035          22.2     76   \n",
       "196  24.5          4            98         60    2164          22.1     76   \n",
       "197  29.0          4            90         70    1937          14.2     76   \n",
       "\n",
       "     origin                        car  \n",
       "0         1  chevrolet chevelle malibu  \n",
       "1         1          buick skylark 320  \n",
       "2         1         plymouth satellite  \n",
       "3         1              amc rebel sst  \n",
       "4         1                ford torino  \n",
       "..      ...                        ...  \n",
       "193       1              ford maverick  \n",
       "194       1                 amc hornet  \n",
       "195       1         chevrolet chevette  \n",
       "196       1            chevrolet woody  \n",
       "197       2                  vw rabbit  \n",
       "\n",
       "[198 rows x 9 columns]"
      ],
      "text/html": "<div>\n<style scoped>\n    .dataframe tbody tr th:only-of-type {\n        vertical-align: middle;\n    }\n\n    .dataframe tbody tr th {\n        vertical-align: top;\n    }\n\n    .dataframe thead th {\n        text-align: right;\n    }\n</style>\n<table border=\"1\" class=\"dataframe\">\n  <thead>\n    <tr style=\"text-align: right;\">\n      <th></th>\n      <th>mpg</th>\n      <th>cylinders</th>\n      <th>displacement</th>\n      <th>horsepower</th>\n      <th>weight</th>\n      <th>acceleration</th>\n      <th>model</th>\n      <th>origin</th>\n      <th>car</th>\n    </tr>\n  </thead>\n  <tbody>\n    <tr>\n      <th>0</th>\n      <td>18.0</td>\n      <td>8</td>\n      <td>307</td>\n      <td>130</td>\n      <td>3504</td>\n      <td>12.0</td>\n      <td>70</td>\n      <td>1</td>\n      <td>chevrolet chevelle malibu</td>\n    </tr>\n    <tr>\n      <th>1</th>\n      <td>15.0</td>\n      <td>8</td>\n      <td>350</td>\n      <td>165</td>\n      <td>3693</td>\n      <td>11.5</td>\n      <td>70</td>\n      <td>1</td>\n      <td>buick skylark 320</td>\n    </tr>\n    <tr>\n      <th>2</th>\n      <td>18.0</td>\n      <td>8</td>\n      <td>318</td>\n      <td>150</td>\n      <td>3436</td>\n      <td>11.0</td>\n      <td>70</td>\n      <td>1</td>\n      <td>plymouth satellite</td>\n    </tr>\n    <tr>\n      <th>3</th>\n      <td>16.0</td>\n      <td>8</td>\n      <td>304</td>\n      <td>150</td>\n      <td>3433</td>\n      <td>12.0</td>\n      <td>70</td>\n      <td>1</td>\n      <td>amc rebel sst</td>\n    </tr>\n    <tr>\n      <th>4</th>\n      <td>17.0</td>\n      <td>8</td>\n      <td>302</td>\n      <td>140</td>\n      <td>3449</td>\n      <td>10.5</td>\n      <td>70</td>\n      <td>1</td>\n      <td>ford torino</td>\n    </tr>\n    <tr>\n      <th>...</th>\n      <td>...</td>\n      <td>...</td>\n      <td>...</td>\n      <td>...</td>\n      <td>...</td>\n      <td>...</td>\n      <td>...</td>\n      <td>...</td>\n      <td>...</td>\n    </tr>\n    <tr>\n      <th>193</th>\n      <td>24.0</td>\n      <td>6</td>\n      <td>200</td>\n      <td>81</td>\n      <td>3012</td>\n      <td>17.6</td>\n      <td>76</td>\n      <td>1</td>\n      <td>ford maverick</td>\n    </tr>\n    <tr>\n      <th>194</th>\n      <td>22.5</td>\n      <td>6</td>\n      <td>232</td>\n      <td>90</td>\n      <td>3085</td>\n      <td>17.6</td>\n      <td>76</td>\n      <td>1</td>\n      <td>amc hornet</td>\n    </tr>\n    <tr>\n      <th>195</th>\n      <td>29.0</td>\n      <td>4</td>\n      <td>85</td>\n      <td>52</td>\n      <td>2035</td>\n      <td>22.2</td>\n      <td>76</td>\n      <td>1</td>\n      <td>chevrolet chevette</td>\n    </tr>\n    <tr>\n      <th>196</th>\n      <td>24.5</td>\n      <td>4</td>\n      <td>98</td>\n      <td>60</td>\n      <td>2164</td>\n      <td>22.1</td>\n      <td>76</td>\n      <td>1</td>\n      <td>chevrolet woody</td>\n    </tr>\n    <tr>\n      <th>197</th>\n      <td>29.0</td>\n      <td>4</td>\n      <td>90</td>\n      <td>70</td>\n      <td>1937</td>\n      <td>14.2</td>\n      <td>76</td>\n      <td>2</td>\n      <td>vw rabbit</td>\n    </tr>\n  </tbody>\n</table>\n<p>198 rows × 9 columns</p>\n</div>"
     },
     "metadata": {},
     "execution_count": 20
    }
   ],
   "source": [
    "cars1.loc[:, ~cars1.columns.str.contains('^Unnamed')]"
   ]
  },
  {
   "source": [
    "d.     How many observations exist in each dataset?\n",
    "\n"
   ],
   "cell_type": "markdown",
   "metadata": {}
  },
  {
   "cell_type": "code",
   "execution_count": 21,
   "metadata": {},
   "outputs": [],
   "source": [
    "count_observations_cars1 = cars1.shape[0]\n",
    "count_observations_cars2 = cars2.shape[0]"
   ]
  },
  {
   "cell_type": "code",
   "execution_count": 22,
   "metadata": {},
   "outputs": [
    {
     "output_type": "execute_result",
     "data": {
      "text/plain": [
       "198"
      ]
     },
     "metadata": {},
     "execution_count": 22
    }
   ],
   "source": [
    "count_observations_cars1"
   ]
  },
  {
   "cell_type": "code",
   "execution_count": 23,
   "metadata": {},
   "outputs": [
    {
     "output_type": "execute_result",
     "data": {
      "text/plain": [
       "200"
      ]
     },
     "metadata": {},
     "execution_count": 23
    }
   ],
   "source": [
    "count_observations_cars2"
   ]
  },
  {
   "source": [
    "e.     Join cars1 and cars2 into one dataframe.\n",
    "\n"
   ],
   "cell_type": "markdown",
   "metadata": {}
  },
  {
   "cell_type": "code",
   "execution_count": 24,
   "metadata": {},
   "outputs": [],
   "source": [
    "frames = [cars1, cars2]"
   ]
  },
  {
   "cell_type": "code",
   "execution_count": 25,
   "metadata": {},
   "outputs": [],
   "source": [
    "cars = pd.concat(frames)"
   ]
  },
  {
   "source": [
    "f.      Let’s add a column called owners consisting of random numbers from 15,000 to 73,000.\n",
    "\n",
    "g.     Add it to the cars dataframe."
   ],
   "cell_type": "markdown",
   "metadata": {}
  },
  {
   "cell_type": "code",
   "execution_count": 26,
   "metadata": {},
   "outputs": [],
   "source": [
    "cars['owners'] = np.random.randint(15000, 73000, cars.shape[0])\n",
    "#f and g done in one line"
   ]
  },
  {
   "source": [
    "h.     Print the last five rows of the dataset.\n",
    "\n"
   ],
   "cell_type": "markdown",
   "metadata": {}
  },
  {
   "cell_type": "code",
   "execution_count": 27,
   "metadata": {},
   "outputs": [
    {
     "output_type": "execute_result",
     "data": {
      "text/plain": [
       "      mpg  cylinders  displacement horsepower  weight  acceleration  model  \\\n",
       "195  27.0          4           140         86    2790          15.6     82   \n",
       "196  44.0          4            97         52    2130          24.6     82   \n",
       "197  32.0          4           135         84    2295          11.6     82   \n",
       "198  28.0          4           120         79    2625          18.6     82   \n",
       "199  31.0          4           119         82    2720          19.4     82   \n",
       "\n",
       "     origin              car  Unnamed: 9  Unnamed: 10  Unnamed: 11  \\\n",
       "195       1  ford mustang gl         NaN          NaN          NaN   \n",
       "196       2        vw pickup         NaN          NaN          NaN   \n",
       "197       1    dodge rampage         NaN          NaN          NaN   \n",
       "198       1      ford ranger         NaN          NaN          NaN   \n",
       "199       1       chevy s-10         NaN          NaN          NaN   \n",
       "\n",
       "     Unnamed: 12  Unnamed: 13  owners  \n",
       "195          NaN          NaN   65707  \n",
       "196          NaN          NaN   30949  \n",
       "197          NaN          NaN   25362  \n",
       "198          NaN          NaN   34634  \n",
       "199          NaN          NaN   23907  "
      ],
      "text/html": "<div>\n<style scoped>\n    .dataframe tbody tr th:only-of-type {\n        vertical-align: middle;\n    }\n\n    .dataframe tbody tr th {\n        vertical-align: top;\n    }\n\n    .dataframe thead th {\n        text-align: right;\n    }\n</style>\n<table border=\"1\" class=\"dataframe\">\n  <thead>\n    <tr style=\"text-align: right;\">\n      <th></th>\n      <th>mpg</th>\n      <th>cylinders</th>\n      <th>displacement</th>\n      <th>horsepower</th>\n      <th>weight</th>\n      <th>acceleration</th>\n      <th>model</th>\n      <th>origin</th>\n      <th>car</th>\n      <th>Unnamed: 9</th>\n      <th>Unnamed: 10</th>\n      <th>Unnamed: 11</th>\n      <th>Unnamed: 12</th>\n      <th>Unnamed: 13</th>\n      <th>owners</th>\n    </tr>\n  </thead>\n  <tbody>\n    <tr>\n      <th>195</th>\n      <td>27.0</td>\n      <td>4</td>\n      <td>140</td>\n      <td>86</td>\n      <td>2790</td>\n      <td>15.6</td>\n      <td>82</td>\n      <td>1</td>\n      <td>ford mustang gl</td>\n      <td>NaN</td>\n      <td>NaN</td>\n      <td>NaN</td>\n      <td>NaN</td>\n      <td>NaN</td>\n      <td>65707</td>\n    </tr>\n    <tr>\n      <th>196</th>\n      <td>44.0</td>\n      <td>4</td>\n      <td>97</td>\n      <td>52</td>\n      <td>2130</td>\n      <td>24.6</td>\n      <td>82</td>\n      <td>2</td>\n      <td>vw pickup</td>\n      <td>NaN</td>\n      <td>NaN</td>\n      <td>NaN</td>\n      <td>NaN</td>\n      <td>NaN</td>\n      <td>30949</td>\n    </tr>\n    <tr>\n      <th>197</th>\n      <td>32.0</td>\n      <td>4</td>\n      <td>135</td>\n      <td>84</td>\n      <td>2295</td>\n      <td>11.6</td>\n      <td>82</td>\n      <td>1</td>\n      <td>dodge rampage</td>\n      <td>NaN</td>\n      <td>NaN</td>\n      <td>NaN</td>\n      <td>NaN</td>\n      <td>NaN</td>\n      <td>25362</td>\n    </tr>\n    <tr>\n      <th>198</th>\n      <td>28.0</td>\n      <td>4</td>\n      <td>120</td>\n      <td>79</td>\n      <td>2625</td>\n      <td>18.6</td>\n      <td>82</td>\n      <td>1</td>\n      <td>ford ranger</td>\n      <td>NaN</td>\n      <td>NaN</td>\n      <td>NaN</td>\n      <td>NaN</td>\n      <td>NaN</td>\n      <td>34634</td>\n    </tr>\n    <tr>\n      <th>199</th>\n      <td>31.0</td>\n      <td>4</td>\n      <td>119</td>\n      <td>82</td>\n      <td>2720</td>\n      <td>19.4</td>\n      <td>82</td>\n      <td>1</td>\n      <td>chevy s-10</td>\n      <td>NaN</td>\n      <td>NaN</td>\n      <td>NaN</td>\n      <td>NaN</td>\n      <td>NaN</td>\n      <td>23907</td>\n    </tr>\n  </tbody>\n</table>\n</div>"
     },
     "metadata": {},
     "execution_count": 27
    }
   ],
   "source": [
    "cars.tail()"
   ]
  },
  {
   "source": [
    "i.       Which car has the min mpg?\n",
    "\n"
   ],
   "cell_type": "markdown",
   "metadata": {}
  },
  {
   "cell_type": "code",
   "execution_count": 28,
   "metadata": {},
   "outputs": [
    {
     "output_type": "execute_result",
     "data": {
      "text/plain": [
       "28    hi 1200d\n",
       "Name: car, dtype: object"
      ]
     },
     "metadata": {},
     "execution_count": 28
    }
   ],
   "source": [
    "min_mpg = cars[cars.mpg == cars.mpg.min()]\n",
    "min_mpg['car']"
   ]
  },
  {
   "source": [
    "j.       Which car has the max horsepower?\n",
    "\n"
   ],
   "cell_type": "markdown",
   "metadata": {}
  },
  {
   "cell_type": "code",
   "execution_count": 29,
   "metadata": {},
   "outputs": [
    {
     "output_type": "execute_result",
     "data": {
      "text/plain": [
       "33                           amc gremlin\n",
       "35             chevrolet chevelle malibu\n",
       "37                           amc matador\n",
       "47                      pontiac firebird\n",
       "98                 chevrolet nova custom\n",
       "99                            amc hornet\n",
       "107                          amc gremlin\n",
       "127                           amc hornet\n",
       "128                       chevrolet nova\n",
       "133    chevrolet chevelle malibu classic\n",
       "169                          amc gremlin\n",
       "191                     plymouth valiant\n",
       "1                         dodge aspen se\n",
       "29                plymouth volare custom\n",
       "58                       plymouth volare\n",
       "136                        mazda rx-7 gs\n",
       "159                         datsun 200sx\n",
       "Name: car, dtype: object"
      ]
     },
     "metadata": {},
     "execution_count": 29
    }
   ],
   "source": [
    "max_horsepower = cars[cars.horsepower == cars.horsepower.min()]\n",
    "max_horsepower['car']"
   ]
  }
 ]
}