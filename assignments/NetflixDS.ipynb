{
  "nbformat": 4,
  "nbformat_minor": 0,
  "metadata": {
    "colab": {
      "name": "NetflixDS.ipynb",
      "provenance": [],
      "collapsed_sections": []
    },
    "kernelspec": {
      "name": "python3",
      "display_name": "Python 3"
    },
    "language_info": {
      "name": "python"
    }
  },
  "cells": [
    {
      "cell_type": "markdown",
      "metadata": {
        "id": "ktW7nxT5SjUk"
      },
      "source": [
        "Grab a partner (or two)\n",
        "\n",
        "Download the Netflix CSV file\n",
        "\n",
        "Using Google Colab: https://colab.research.google.com/, complete the following.\n",
        "\n",
        "1.\tImport the data\n",
        "2.\tExplore the data\n",
        "    a.\tWhat are the columns?\n",
        "    b.\tWhat data is missing? \n",
        "    c.\tHow many TV Shows are there compared to movies? \n",
        "    d.\tWhat are the ratings? How many of each? \n",
        "    e.\tWhat about categories (listed_in)? \n",
        "    f.\tAre there any correlations between fields? \n",
        "3.\tClean the data, if necessary\n",
        "4.\tBuild a recommendation engine. You may want to use the python natural language toolkit (import it) or word2vec from Google: https://code.google.com/archive/p/word2vec/. \n",
        "5.\tSubmit the code you used to create a recommendation engine that when a movie title or cast name is entered, it returns 5-10 recommendations based on the value entered. \n",
        "\n",
        "\n",
        "\n",
        "\n"
      ]
    },
    {
      "cell_type": "code",
      "metadata": {
        "id": "kQWHLZ0wUBSa",
        "colab": {
          "base_uri": "https://localhost:8080/"
        },
        "outputId": "71d6cf13-319b-460a-a8bb-487493d2e2d4"
      },
      "source": [
        "import numpy as np\n",
        "import pandas as pd\n",
        "df = pd.read_csv('netflix_titles.csv.zip')\n",
        "import nltk\n",
        "nltk.download('punkt')\n",
        "nltk.download('averaged_perceptron_tagger')"
      ],
      "execution_count": null,
      "outputs": [
        {
          "output_type": "stream",
          "text": [
            "[nltk_data] Downloading package punkt to /root/nltk_data...\n",
            "[nltk_data]   Package punkt is already up-to-date!\n",
            "[nltk_data] Downloading package averaged_perceptron_tagger to\n",
            "[nltk_data]     /root/nltk_data...\n",
            "[nltk_data]   Package averaged_perceptron_tagger is already up-to-\n",
            "[nltk_data]       date!\n"
          ],
          "name": "stdout"
        },
        {
          "output_type": "execute_result",
          "data": {
            "text/plain": [
              "True"
            ]
          },
          "metadata": {
            "tags": []
          },
          "execution_count": 2
        }
      ]
    },
    {
      "cell_type": "code",
      "metadata": {
        "id": "3G-m9ERPUUyW",
        "colab": {
          "base_uri": "https://localhost:8080/",
          "height": 49
        },
        "outputId": "f146f736-5113-4b27-9206-a8f006ab07c3"
      },
      "source": [
        "df.head(0) #show oclumns"
      ],
      "execution_count": null,
      "outputs": [
        {
          "output_type": "execute_result",
          "data": {
            "text/html": [
              "<div>\n",
              "<style scoped>\n",
              "    .dataframe tbody tr th:only-of-type {\n",
              "        vertical-align: middle;\n",
              "    }\n",
              "\n",
              "    .dataframe tbody tr th {\n",
              "        vertical-align: top;\n",
              "    }\n",
              "\n",
              "    .dataframe thead th {\n",
              "        text-align: right;\n",
              "    }\n",
              "</style>\n",
              "<table border=\"1\" class=\"dataframe\">\n",
              "  <thead>\n",
              "    <tr style=\"text-align: right;\">\n",
              "      <th></th>\n",
              "      <th>show_id</th>\n",
              "      <th>type</th>\n",
              "      <th>title</th>\n",
              "      <th>director</th>\n",
              "      <th>cast</th>\n",
              "      <th>country</th>\n",
              "      <th>date_added</th>\n",
              "      <th>release_year</th>\n",
              "      <th>rating</th>\n",
              "      <th>duration</th>\n",
              "      <th>listed_in</th>\n",
              "      <th>description</th>\n",
              "    </tr>\n",
              "  </thead>\n",
              "  <tbody>\n",
              "  </tbody>\n",
              "</table>\n",
              "</div>"
            ],
            "text/plain": [
              "Empty DataFrame\n",
              "Columns: [show_id, type, title, director, cast, country, date_added, release_year, rating, duration, listed_in, description]\n",
              "Index: []"
            ]
          },
          "metadata": {
            "tags": []
          },
          "execution_count": 3
        }
      ]
    },
    {
      "cell_type": "code",
      "metadata": {
        "colab": {
          "base_uri": "https://localhost:8080/"
        },
        "id": "WjROistfZwE7",
        "outputId": "816c235b-2b60-437b-d1f5-f2ae5358675e"
      },
      "source": [
        "# in this section, im going to try to clean and impute the director column\n",
        "# i guess i should count how many directors there are and reclassify\n",
        "df['type'].value_counts()"
      ],
      "execution_count": null,
      "outputs": [
        {
          "output_type": "execute_result",
          "data": {
            "text/plain": [
              "Movie      5377\n",
              "TV Show    2410\n",
              "Name: type, dtype: int64"
            ]
          },
          "metadata": {
            "tags": []
          },
          "execution_count": 4
        }
      ]
    },
    {
      "cell_type": "code",
      "metadata": {
        "id": "8DHemaboZX0g",
        "colab": {
          "base_uri": "https://localhost:8080/"
        },
        "outputId": "fc08b0c0-3146-4caf-dfe9-62141aa6acff"
      },
      "source": [
        "df.info()"
      ],
      "execution_count": null,
      "outputs": [
        {
          "output_type": "stream",
          "text": [
            "<class 'pandas.core.frame.DataFrame'>\n",
            "RangeIndex: 7787 entries, 0 to 7786\n",
            "Data columns (total 12 columns):\n",
            " #   Column        Non-Null Count  Dtype \n",
            "---  ------        --------------  ----- \n",
            " 0   show_id       7787 non-null   object\n",
            " 1   type          7787 non-null   object\n",
            " 2   title         7787 non-null   object\n",
            " 3   director      5398 non-null   object\n",
            " 4   cast          7069 non-null   object\n",
            " 5   country       7280 non-null   object\n",
            " 6   date_added    7777 non-null   object\n",
            " 7   release_year  7787 non-null   int64 \n",
            " 8   rating        7780 non-null   object\n",
            " 9   duration      7787 non-null   object\n",
            " 10  listed_in     7787 non-null   object\n",
            " 11  description   7787 non-null   object\n",
            "dtypes: int64(1), object(11)\n",
            "memory usage: 730.2+ KB\n"
          ],
          "name": "stdout"
        }
      ]
    },
    {
      "cell_type": "markdown",
      "metadata": {
        "id": "r-Uqhm6xbycK"
      },
      "source": [
        "What data is missing??"
      ]
    },
    {
      "cell_type": "code",
      "metadata": {
        "id": "103668LEZZ1w",
        "colab": {
          "base_uri": "https://localhost:8080/"
        },
        "outputId": "83e23b1e-83de-4177-d498-2a2f2e31b632"
      },
      "source": [
        "df.loc[:, df.isnull().any()].columns"
      ],
      "execution_count": null,
      "outputs": [
        {
          "output_type": "execute_result",
          "data": {
            "text/plain": [
              "Index(['director', 'cast', 'country', 'date_added', 'rating'], dtype='object')"
            ]
          },
          "metadata": {
            "tags": []
          },
          "execution_count": 6
        }
      ]
    },
    {
      "cell_type": "markdown",
      "metadata": {
        "id": "AUDT46LGgrFQ"
      },
      "source": [
        "How Many TV shows compared to movies??"
      ]
    },
    {
      "cell_type": "code",
      "metadata": {
        "id": "SeJe64C5hoeI"
      },
      "source": [
        "types = df.groupby('type')"
      ],
      "execution_count": null,
      "outputs": []
    },
    {
      "cell_type": "code",
      "metadata": {
        "colab": {
          "base_uri": "https://localhost:8080/"
        },
        "id": "XExfzBbPckC_",
        "outputId": "67af71a1-6108-4666-aeba-12de9793d090"
      },
      "source": [
        "tv_shows = types.get_group('TV Show')\n",
        "print('The total number of tv shows: {}'.format(tv_shows['type'].count()))\n"
      ],
      "execution_count": null,
      "outputs": [
        {
          "output_type": "stream",
          "text": [
            "The total number of tv shows: 2410\n"
          ],
          "name": "stdout"
        }
      ]
    },
    {
      "cell_type": "code",
      "metadata": {
        "colab": {
          "base_uri": "https://localhost:8080/"
        },
        "id": "2tlXbAAgg0pM",
        "outputId": "59f42c2d-553f-4430-c797-8e95ab0d604d"
      },
      "source": [
        "movies = types.get_group('Movie')\n",
        "print('The total number of movies: {}'.format(movies['type'].count()))"
      ],
      "execution_count": null,
      "outputs": [
        {
          "output_type": "stream",
          "text": [
            "The total number of movies: 5377\n"
          ],
          "name": "stdout"
        }
      ]
    },
    {
      "cell_type": "markdown",
      "metadata": {
        "id": "N9lI-jXhh_8e"
      },
      "source": [
        "Ratings"
      ]
    },
    {
      "cell_type": "code",
      "metadata": {
        "colab": {
          "base_uri": "https://localhost:8080/"
        },
        "id": "E2ezYX3mh538",
        "outputId": "c819fc3b-b073-4359-b223-466bcc650dac"
      },
      "source": [
        "df['rating'].value_counts()"
      ],
      "execution_count": null,
      "outputs": [
        {
          "output_type": "execute_result",
          "data": {
            "text/plain": [
              "TV-MA       2863\n",
              "TV-14       1931\n",
              "TV-PG        806\n",
              "R            665\n",
              "PG-13        386\n",
              "TV-Y         280\n",
              "TV-Y7        271\n",
              "PG           247\n",
              "TV-G         194\n",
              "NR            84\n",
              "G             39\n",
              "TV-Y7-FV       6\n",
              "UR             5\n",
              "NC-17          3\n",
              "Name: rating, dtype: int64"
            ]
          },
          "metadata": {
            "tags": []
          },
          "execution_count": 10
        }
      ]
    },
    {
      "cell_type": "markdown",
      "metadata": {
        "id": "mouQlx5_UGdP"
      },
      "source": [
        "what are the categories and how many of each??"
      ]
    },
    {
      "cell_type": "code",
      "metadata": {
        "colab": {
          "base_uri": "https://localhost:8080/"
        },
        "id": "ca5YfL_AhxJK",
        "outputId": "10fed787-ab69-42d3-e5b0-5919b86af559"
      },
      "source": [
        "df['listed_in'].value_counts()"
      ],
      "execution_count": null,
      "outputs": [
        {
          "output_type": "execute_result",
          "data": {
            "text/plain": [
              "Documentaries                                                                      334\n",
              "Stand-Up Comedy                                                                    321\n",
              "Dramas, International Movies                                                       320\n",
              "Comedies, Dramas, International Movies                                             243\n",
              "Dramas, Independent Movies, International Movies                                   215\n",
              "                                                                                  ... \n",
              "Horror Movies, International Movies, Sci-Fi & Fantasy                                1\n",
              "Comedies, Dramas, Sports Movies                                                      1\n",
              "Dramas, Faith & Spirituality, Independent Movies                                     1\n",
              "International TV Shows, Spanish-Language TV Shows, Stand-Up Comedy & Talk Shows      1\n",
              "Reality TV, TV Horror, TV Thrillers                                                  1\n",
              "Name: listed_in, Length: 492, dtype: int64"
            ]
          },
          "metadata": {
            "tags": []
          },
          "execution_count": 11
        }
      ]
    },
    {
      "cell_type": "markdown",
      "metadata": {
        "id": "B-B0ghbKV0Q9"
      },
      "source": [
        "Are there any correlations between fields??"
      ]
    },
    {
      "cell_type": "code",
      "metadata": {
        "colab": {
          "base_uri": "https://localhost:8080/",
          "height": 81
        },
        "id": "9WwNk3_KU_sG",
        "outputId": "f0e4f7fa-ca1d-49d6-db32-d1b9f37fd226"
      },
      "source": [
        "df[['show_id', 'type', 'title', 'director', 'cast', 'country', 'date_added', 'release_year', 'rating', 'duration', 'listed_in', 'description']].corr()"
      ],
      "execution_count": null,
      "outputs": [
        {
          "output_type": "execute_result",
          "data": {
            "text/html": [
              "<div>\n",
              "<style scoped>\n",
              "    .dataframe tbody tr th:only-of-type {\n",
              "        vertical-align: middle;\n",
              "    }\n",
              "\n",
              "    .dataframe tbody tr th {\n",
              "        vertical-align: top;\n",
              "    }\n",
              "\n",
              "    .dataframe thead th {\n",
              "        text-align: right;\n",
              "    }\n",
              "</style>\n",
              "<table border=\"1\" class=\"dataframe\">\n",
              "  <thead>\n",
              "    <tr style=\"text-align: right;\">\n",
              "      <th></th>\n",
              "      <th>release_year</th>\n",
              "    </tr>\n",
              "  </thead>\n",
              "  <tbody>\n",
              "    <tr>\n",
              "      <th>release_year</th>\n",
              "      <td>1.0</td>\n",
              "    </tr>\n",
              "  </tbody>\n",
              "</table>\n",
              "</div>"
            ],
            "text/plain": [
              "              release_year\n",
              "release_year           1.0"
            ]
          },
          "metadata": {
            "tags": []
          },
          "execution_count": 14
        }
      ]
    },
    {
      "cell_type": "code",
      "metadata": {
        "colab": {
          "base_uri": "https://localhost:8080/",
          "height": 172
        },
        "id": "l5zMFysjvR3v",
        "outputId": "4b4221b5-91fc-439b-85ad-539ef6c2ffdc"
      },
      "source": [
        "year_groupdf.groupby(df['release_year'])"
      ],
      "execution_count": null,
      "outputs": [
        {
          "output_type": "error",
          "ename": "NameError",
          "evalue": "ignored",
          "traceback": [
            "\u001b[0;31m---------------------------------------------------------------------------\u001b[0m",
            "\u001b[0;31mNameError\u001b[0m                                 Traceback (most recent call last)",
            "\u001b[0;32m<ipython-input-15-63cad8791d07>\u001b[0m in \u001b[0;36m<module>\u001b[0;34m()\u001b[0m\n\u001b[0;32m----> 1\u001b[0;31m \u001b[0myear_groupdf\u001b[0m\u001b[0;34m.\u001b[0m\u001b[0mgroupby\u001b[0m\u001b[0;34m(\u001b[0m\u001b[0mdf\u001b[0m\u001b[0;34m[\u001b[0m\u001b[0;34m'release_year'\u001b[0m\u001b[0;34m]\u001b[0m\u001b[0;34m)\u001b[0m\u001b[0;34m\u001b[0m\u001b[0;34m\u001b[0m\u001b[0m\n\u001b[0m",
            "\u001b[0;31mNameError\u001b[0m: name 'year_groupdf' is not defined"
          ]
        }
      ]
    },
    {
      "cell_type": "code",
      "metadata": {
        "id": "BSJY2wehduzb"
      },
      "source": [
        "from sklearn.metrics import jaccard_score\n",
        "jaccard_score([1,1,1], [1,1,1], average='macro')"
      ],
      "execution_count": null,
      "outputs": []
    },
    {
      "cell_type": "code",
      "metadata": {
        "id": "8gmE-Eyhfklp"
      },
      "source": [
        "concats = df.values.tolist()\n",
        "concats[1]"
      ],
      "execution_count": null,
      "outputs": []
    },
    {
      "cell_type": "code",
      "metadata": {
        "id": "cCcPiKYTgmHe"
      },
      "source": [
        "jaccard_score(np.array(concats[10]).T,\n",
        "              np.array(concats[100]).T,\n",
        "              average = \"macro\")"
      ],
      "execution_count": null,
      "outputs": []
    },
    {
      "cell_type": "code",
      "metadata": {
        "id": "fGSDqRIvgwLu"
      },
      "source": [
        "#to predict: input show/movie, arrange data to string category bins, return top five Jaccard scorers"
      ],
      "execution_count": null,
      "outputs": []
    },
    {
      "cell_type": "code",
      "metadata": {
        "id": "zXaXZuhjhypX",
        "colab": {
          "base_uri": "https://localhost:8080/",
          "height": 36
        },
        "outputId": "66aface1-8f67-4898-fa23-ac646cff9ce8"
      },
      "source": [
        "#create an array of just descriptions\n",
        "desc = df['description']\n",
        "desc[0]"
      ],
      "execution_count": null,
      "outputs": [
        {
          "output_type": "execute_result",
          "data": {
            "application/vnd.google.colaboratory.intrinsic+json": {
              "type": "string"
            },
            "text/plain": [
              "'In a future where the elite inhabit an island paradise far from the crowded slums, you get one chance to join the 3% saved from squalor.'"
            ]
          },
          "metadata": {
            "tags": []
          },
          "execution_count": 17
        }
      ]
    },
    {
      "cell_type": "markdown",
      "metadata": {
        "id": "gFvr5e5gyDn-"
      },
      "source": [
        "\n",
        "Make a list of word types for each word in the description\n",
        "\n",
        "'NN' are nouns that may be useful\n",
        "\n",
        "For this first example, I think 'future', 'paradise', 'island' and similar words would work well\n",
        "\n",
        "link to word descriptions: \n",
        "https://pythonprogramming.net/part-of-speech-tagging-nltk-tutorial/"
      ]
    },
    {
      "cell_type": "code",
      "metadata": {
        "colab": {
          "base_uri": "https://localhost:8080/"
        },
        "id": "SMnkbfROxDp7",
        "outputId": "ba6c31be-9a09-40a1-c858-e66eab011604"
      },
      "source": [
        "tokens = nltk.word_tokenize(desc[0])\n",
        "nltk.pos_tag(tokens)"
      ],
      "execution_count": null,
      "outputs": [
        {
          "output_type": "execute_result",
          "data": {
            "text/plain": [
              "[('In', 'IN'),\n",
              " ('a', 'DT'),\n",
              " ('future', 'NN'),\n",
              " ('where', 'WRB'),\n",
              " ('the', 'DT'),\n",
              " ('elite', 'JJ'),\n",
              " ('inhabit', 'NN'),\n",
              " ('an', 'DT'),\n",
              " ('island', 'NN'),\n",
              " ('paradise', 'NN'),\n",
              " ('far', 'RB'),\n",
              " ('from', 'IN'),\n",
              " ('the', 'DT'),\n",
              " ('crowded', 'VBN'),\n",
              " ('slums', 'NNS'),\n",
              " (',', ','),\n",
              " ('you', 'PRP'),\n",
              " ('get', 'VBP'),\n",
              " ('one', 'CD'),\n",
              " ('chance', 'NN'),\n",
              " ('to', 'TO'),\n",
              " ('join', 'VB'),\n",
              " ('the', 'DT'),\n",
              " ('3', 'CD'),\n",
              " ('%', 'NN'),\n",
              " ('saved', 'VBN'),\n",
              " ('from', 'IN'),\n",
              " ('squalor', 'NN'),\n",
              " ('.', '.')]"
            ]
          },
          "metadata": {
            "tags": []
          },
          "execution_count": 18
        }
      ]
    }
  ]
}