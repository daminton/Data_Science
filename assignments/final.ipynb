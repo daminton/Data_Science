{
 "metadata": {
  "language_info": {
   "codemirror_mode": {
    "name": "ipython",
    "version": 3
   },
   "file_extension": ".py",
   "mimetype": "text/x-python",
   "name": "python",
   "nbconvert_exporter": "python",
   "pygments_lexer": "ipython3",
   "version": "3.9.0"
  },
  "orig_nbformat": 2,
  "kernelspec": {
   "name": "python390jvsc74a57bd063fd5069d213b44bf678585dea6b12cceca9941eaf7f819626cde1f2670de90d",
   "display_name": "Python 3.9.0 64-bit"
  }
 },
 "nbformat": 4,
 "nbformat_minor": 2,
 "cells": [
  {
   "source": [
    "Does having more extra base hits(xbh) correlate to winning a world series? \n",
    "\n",
    "I broke the data up into sections:\n",
    "    - Alltime (1871 - 2020)\n",
    "    - Dead ball era (1900 - 1919)\n",
    "    - Live ball era (1920 - present)\n"
   ],
   "cell_type": "code",
   "metadata": {},
   "execution_count": 140,
   "outputs": [
    {
     "output_type": "error",
     "ename": "SyntaxError",
     "evalue": "invalid syntax (<ipython-input-140-d0e77a752227>, line 1)",
     "traceback": [
      "\u001b[1;36m  File \u001b[1;32m\"<ipython-input-140-d0e77a752227>\"\u001b[1;36m, line \u001b[1;32m1\u001b[0m\n\u001b[1;33m    Does having more extra base hits(xbh) correlate to winning a world series?\u001b[0m\n\u001b[1;37m         ^\u001b[0m\n\u001b[1;31mSyntaxError\u001b[0m\u001b[1;31m:\u001b[0m invalid syntax\n"
     ]
    }
   ]
  },
  {
   "cell_type": "code",
   "execution_count": 135,
   "metadata": {},
   "outputs": [],
   "source": [
    "import numpy as np\n",
    "import pandas as pd\n",
    "import matplotlib as mpl\n",
    "import seaborn as sns\n",
    "from sklearn.model_selection import train_test_split\n",
    "from sklearn.linear_model import LogisticRegression\n",
    "from sklearn import metrics\n",
    "from sklearn.metrics import f1_score\n",
    "from sklearn.ensemble import RandomForestClassifier\n",
    "from sklearn.svm import SVC\n",
    "from sklearn.neighbors import KNeighborsClassifier"
   ]
  },
  {
   "cell_type": "code",
   "execution_count": 63,
   "metadata": {},
   "outputs": [],
   "source": [
    "teams = pd.read_csv('../csv_files/Teams.csv')"
   ]
  },
  {
   "cell_type": "code",
   "execution_count": 64,
   "metadata": {},
   "outputs": [],
   "source": [
    "teams.dropna(subset = ['WSWin'], inplace=True)"
   ]
  },
  {
   "cell_type": "code",
   "execution_count": 65,
   "metadata": {},
   "outputs": [],
   "source": [
    "xbh = teams[['2B','3B','HR']]"
   ]
  },
  {
   "cell_type": "code",
   "execution_count": 67,
   "metadata": {},
   "outputs": [],
   "source": [
    "ws_win = pd.Categorical(teams['WSWin'])"
   ]
  },
  {
   "cell_type": "code",
   "execution_count": 68,
   "metadata": {},
   "outputs": [
    {
     "output_type": "execute_result",
     "data": {
      "text/plain": [
       "['N', 'N', 'N', 'N', 'N', ..., 'N', 'N', 'N', 'N', 'N']\n",
       "Length: 2598\n",
       "Categories (2, object): ['N', 'Y']"
      ]
     },
     "metadata": {},
     "execution_count": 68
    }
   ],
   "source": [
    "ws_win"
   ]
  },
  {
   "cell_type": "code",
   "execution_count": 69,
   "metadata": {},
   "outputs": [
    {
     "output_type": "execute_result",
     "data": {
      "text/plain": [
       "(2598, 3)"
      ]
     },
     "metadata": {},
     "execution_count": 69
    }
   ],
   "source": [
    "xbh.shape"
   ]
  },
  {
   "cell_type": "code",
   "execution_count": 70,
   "metadata": {},
   "outputs": [
    {
     "output_type": "execute_result",
     "data": {
      "text/plain": [
       "(2598,)"
      ]
     },
     "metadata": {},
     "execution_count": 70
    }
   ],
   "source": [
    "ws_win.shape"
   ]
  },
  {
   "cell_type": "code",
   "execution_count": 71,
   "metadata": {},
   "outputs": [],
   "source": [
    "X = np.array(xbh)\n",
    "y = np.array(ws_win)"
   ]
  },
  {
   "cell_type": "code",
   "execution_count": 72,
   "metadata": {},
   "outputs": [],
   "source": [
    "X_train, X_test, y_train, y_test = train_test_split(X, y, test_size = 0.2, random_state = 42)"
   ]
  },
  {
   "cell_type": "code",
   "execution_count": 73,
   "metadata": {},
   "outputs": [],
   "source": [
    "reg_log = LogisticRegression()\n",
    "reg_log.fit(X_train, y_train)\n",
    "y_pred = reg_log.predict(X_test)"
   ]
  },
  {
   "cell_type": "code",
   "execution_count": 139,
   "metadata": {},
   "outputs": [
    {
     "output_type": "stream",
     "name": "stderr",
     "text": [
      "C:\\Python39\\lib\\site-packages\\sklearn\\metrics\\_classification.py:1245: UndefinedMetricWarning: Precision and F-score are ill-defined and being set to 0.0 in labels with no predicted samples. Use `zero_division` parameter to control this behavior.\n  _warn_prf(average, modifier, msg_start, len(result))\nC:\\Python39\\lib\\site-packages\\sklearn\\metrics\\_classification.py:1245: UndefinedMetricWarning: Precision and F-score are ill-defined and being set to 0.0 in labels with no predicted samples. Use `zero_division` parameter to control this behavior.\n  _warn_prf(average, modifier, msg_start, len(result))\nC:\\Python39\\lib\\site-packages\\sklearn\\metrics\\_classification.py:1245: UndefinedMetricWarning: Precision and F-score are ill-defined and being set to 0.0 in labels with no predicted samples. Use `zero_division` parameter to control this behavior.\n  _warn_prf(average, modifier, msg_start, len(result))\n"
     ]
    },
    {
     "output_type": "execute_result",
     "data": {
      "text/plain": [
       "'              precision    recall  f1-score   support\\n\\n           N       0.94      1.00      0.97        49\\n           Y       0.00      0.00      0.00         3\\n\\n    accuracy                           0.94        52\\n   macro avg       0.47      0.50      0.49        52\\nweighted avg       0.89      0.94      0.91        52\\n'"
      ]
     },
     "metadata": {},
     "execution_count": 139
    }
   ],
   "source": [
    "metrics.classification_report(y_test, y_pred)"
   ]
  },
  {
   "cell_type": "code",
   "execution_count": 86,
   "metadata": {},
   "outputs": [],
   "source": [
    "reg_rf = RandomForestClassifier()\n",
    "reg_rf.fit(X_train, y_train)\n",
    "y_pred = reg_rf.predict(X_test)"
   ]
  },
  {
   "cell_type": "code",
   "execution_count": 87,
   "metadata": {},
   "outputs": [
    {
     "output_type": "stream",
     "name": "stderr",
     "text": [
      "C:\\Python39\\lib\\site-packages\\sklearn\\metrics\\_classification.py:1245: UndefinedMetricWarning: Precision and F-score are ill-defined and being set to 0.0 in labels with no predicted samples. Use `zero_division` parameter to control this behavior.\n  _warn_prf(average, modifier, msg_start, len(result))\nC:\\Python39\\lib\\site-packages\\sklearn\\metrics\\_classification.py:1245: UndefinedMetricWarning: Precision and F-score are ill-defined and being set to 0.0 in labels with no predicted samples. Use `zero_division` parameter to control this behavior.\n  _warn_prf(average, modifier, msg_start, len(result))\nC:\\Python39\\lib\\site-packages\\sklearn\\metrics\\_classification.py:1245: UndefinedMetricWarning: Precision and F-score are ill-defined and being set to 0.0 in labels with no predicted samples. Use `zero_division` parameter to control this behavior.\n  _warn_prf(average, modifier, msg_start, len(result))\n"
     ]
    },
    {
     "output_type": "execute_result",
     "data": {
      "text/plain": [
       "'              precision    recall  f1-score   support\\n\\n           N       0.94      1.00      0.97       491\\n           Y       0.00      0.00      0.00        29\\n\\n    accuracy                           0.94       520\\n   macro avg       0.47      0.50      0.49       520\\nweighted avg       0.89      0.94      0.92       520\\n'"
      ]
     },
     "metadata": {},
     "execution_count": 87
    }
   ],
   "source": [
    "metrics.classification_report(y_test, y_pred)"
   ]
  },
  {
   "cell_type": "code",
   "execution_count": 89,
   "metadata": {},
   "outputs": [],
   "source": [
    "reg_svc = SVC()\n",
    "reg_svc.fit(X_train, y_train)\n",
    "y_pred = reg_svc.predict(X_test)"
   ]
  },
  {
   "cell_type": "code",
   "execution_count": 90,
   "metadata": {},
   "outputs": [
    {
     "output_type": "stream",
     "name": "stderr",
     "text": [
      "C:\\Python39\\lib\\site-packages\\sklearn\\metrics\\_classification.py:1245: UndefinedMetricWarning: Precision and F-score are ill-defined and being set to 0.0 in labels with no predicted samples. Use `zero_division` parameter to control this behavior.\n  _warn_prf(average, modifier, msg_start, len(result))\nC:\\Python39\\lib\\site-packages\\sklearn\\metrics\\_classification.py:1245: UndefinedMetricWarning: Precision and F-score are ill-defined and being set to 0.0 in labels with no predicted samples. Use `zero_division` parameter to control this behavior.\n  _warn_prf(average, modifier, msg_start, len(result))\nC:\\Python39\\lib\\site-packages\\sklearn\\metrics\\_classification.py:1245: UndefinedMetricWarning: Precision and F-score are ill-defined and being set to 0.0 in labels with no predicted samples. Use `zero_division` parameter to control this behavior.\n  _warn_prf(average, modifier, msg_start, len(result))\n"
     ]
    },
    {
     "output_type": "execute_result",
     "data": {
      "text/plain": [
       "'              precision    recall  f1-score   support\\n\\n           N       0.94      1.00      0.97       491\\n           Y       0.00      0.00      0.00        29\\n\\n    accuracy                           0.94       520\\n   macro avg       0.47      0.50      0.49       520\\nweighted avg       0.89      0.94      0.92       520\\n'"
      ]
     },
     "metadata": {},
     "execution_count": 90
    }
   ],
   "source": [
    "metrics.classification_report(y_test, y_pred)"
   ]
  },
  {
   "cell_type": "code",
   "execution_count": 91,
   "metadata": {},
   "outputs": [],
   "source": [
    "reg_knn = KNeighborsClassifier()\n",
    "reg_knn.fit(X_train, y_train)\n",
    "y_pred = reg_knn.predict(X_test)"
   ]
  },
  {
   "cell_type": "code",
   "execution_count": 92,
   "metadata": {},
   "outputs": [
    {
     "output_type": "stream",
     "name": "stderr",
     "text": [
      "C:\\Python39\\lib\\site-packages\\sklearn\\metrics\\_classification.py:1245: UndefinedMetricWarning: Precision and F-score are ill-defined and being set to 0.0 in labels with no predicted samples. Use `zero_division` parameter to control this behavior.\n  _warn_prf(average, modifier, msg_start, len(result))\nC:\\Python39\\lib\\site-packages\\sklearn\\metrics\\_classification.py:1245: UndefinedMetricWarning: Precision and F-score are ill-defined and being set to 0.0 in labels with no predicted samples. Use `zero_division` parameter to control this behavior.\n  _warn_prf(average, modifier, msg_start, len(result))\nC:\\Python39\\lib\\site-packages\\sklearn\\metrics\\_classification.py:1245: UndefinedMetricWarning: Precision and F-score are ill-defined and being set to 0.0 in labels with no predicted samples. Use `zero_division` parameter to control this behavior.\n  _warn_prf(average, modifier, msg_start, len(result))\n"
     ]
    },
    {
     "output_type": "execute_result",
     "data": {
      "text/plain": [
       "'              precision    recall  f1-score   support\\n\\n           N       0.94      1.00      0.97       491\\n           Y       0.00      0.00      0.00        29\\n\\n    accuracy                           0.94       520\\n   macro avg       0.47      0.50      0.49       520\\nweighted avg       0.89      0.94      0.92       520\\n'"
      ]
     },
     "metadata": {},
     "execution_count": 92
    }
   ],
   "source": [
    "metrics.classification_report(y_test, y_pred)"
   ]
  },
  {
   "cell_type": "code",
   "execution_count": 111,
   "metadata": {},
   "outputs": [],
   "source": [
    "dead_ball = teams.set_index(teams['yearID'])\n",
    "dead_ball = dead_ball.loc['1900':'1919']"
   ]
  },
  {
   "cell_type": "code",
   "execution_count": 123,
   "metadata": {},
   "outputs": [],
   "source": [
    "xbh = dead_ball[['2B','3B','HR']]"
   ]
  },
  {
   "cell_type": "code",
   "execution_count": 124,
   "metadata": {},
   "outputs": [],
   "source": [
    "ws_win = pd.Categorical(dead_ball['WSWin'])"
   ]
  },
  {
   "cell_type": "code",
   "execution_count": 125,
   "metadata": {},
   "outputs": [],
   "source": [
    "X = np.array(xbh)\n",
    "y = np.array(ws_win)"
   ]
  },
  {
   "cell_type": "code",
   "execution_count": 126,
   "metadata": {},
   "outputs": [],
   "source": [
    "X_train, X_test, y_train, y_test = train_test_split(X, y, test_size = 0.2, random_state = 42)"
   ]
  },
  {
   "cell_type": "code",
   "execution_count": 127,
   "metadata": {},
   "outputs": [],
   "source": [
    "reg_log = LogisticRegression()\n",
    "reg_log.fit(X_train, y_train)\n",
    "y_pred = reg_log.predict(X_test)"
   ]
  },
  {
   "cell_type": "code",
   "execution_count": 128,
   "metadata": {},
   "outputs": [
    {
     "output_type": "stream",
     "name": "stderr",
     "text": [
      "C:\\Python39\\lib\\site-packages\\sklearn\\metrics\\_classification.py:1245: UndefinedMetricWarning: Precision and F-score are ill-defined and being set to 0.0 in labels with no predicted samples. Use `zero_division` parameter to control this behavior.\n  _warn_prf(average, modifier, msg_start, len(result))\nC:\\Python39\\lib\\site-packages\\sklearn\\metrics\\_classification.py:1245: UndefinedMetricWarning: Precision and F-score are ill-defined and being set to 0.0 in labels with no predicted samples. Use `zero_division` parameter to control this behavior.\n  _warn_prf(average, modifier, msg_start, len(result))\nC:\\Python39\\lib\\site-packages\\sklearn\\metrics\\_classification.py:1245: UndefinedMetricWarning: Precision and F-score are ill-defined and being set to 0.0 in labels with no predicted samples. Use `zero_division` parameter to control this behavior.\n  _warn_prf(average, modifier, msg_start, len(result))\n"
     ]
    },
    {
     "output_type": "execute_result",
     "data": {
      "text/plain": [
       "'              precision    recall  f1-score   support\\n\\n           N       0.94      1.00      0.97        49\\n           Y       0.00      0.00      0.00         3\\n\\n    accuracy                           0.94        52\\n   macro avg       0.47      0.50      0.49        52\\nweighted avg       0.89      0.94      0.91        52\\n'"
      ]
     },
     "metadata": {},
     "execution_count": 128
    }
   ],
   "source": [
    "metrics.classification_report(y_test, y_pred)"
   ]
  },
  {
   "cell_type": "code",
   "execution_count": 129,
   "metadata": {},
   "outputs": [],
   "source": [
    "reg_rf = RandomForestClassifier()\n",
    "reg_rf.fit(X_train, y_train)\n",
    "y_pred = reg_rf.predict(X_test)"
   ]
  },
  {
   "cell_type": "code",
   "execution_count": 141,
   "metadata": {},
   "outputs": [
    {
     "output_type": "stream",
     "name": "stderr",
     "text": [
      "C:\\Python39\\lib\\site-packages\\sklearn\\metrics\\_classification.py:1245: UndefinedMetricWarning: Precision and F-score are ill-defined and being set to 0.0 in labels with no predicted samples. Use `zero_division` parameter to control this behavior.\n  _warn_prf(average, modifier, msg_start, len(result))\nC:\\Python39\\lib\\site-packages\\sklearn\\metrics\\_classification.py:1245: UndefinedMetricWarning: Precision and F-score are ill-defined and being set to 0.0 in labels with no predicted samples. Use `zero_division` parameter to control this behavior.\n  _warn_prf(average, modifier, msg_start, len(result))\nC:\\Python39\\lib\\site-packages\\sklearn\\metrics\\_classification.py:1245: UndefinedMetricWarning: Precision and F-score are ill-defined and being set to 0.0 in labels with no predicted samples. Use `zero_division` parameter to control this behavior.\n  _warn_prf(average, modifier, msg_start, len(result))\n"
     ]
    },
    {
     "output_type": "execute_result",
     "data": {
      "text/plain": [
       "'              precision    recall  f1-score   support\\n\\n           N       0.94      1.00      0.97        49\\n           Y       0.00      0.00      0.00         3\\n\\n    accuracy                           0.94        52\\n   macro avg       0.47      0.50      0.49        52\\nweighted avg       0.89      0.94      0.91        52\\n'"
      ]
     },
     "metadata": {},
     "execution_count": 141
    }
   ],
   "source": [
    "metrics.classification_report(y_test, y_pred)"
   ]
  },
  {
   "cell_type": "code",
   "execution_count": 142,
   "metadata": {},
   "outputs": [],
   "source": [
    "reg_svc = SVC()\n",
    "reg_svc.fit(X_train, y_train)\n",
    "y_pred = reg_svc.predict(X_test)"
   ]
  },
  {
   "cell_type": "code",
   "execution_count": 143,
   "metadata": {},
   "outputs": [
    {
     "output_type": "stream",
     "name": "stderr",
     "text": [
      "C:\\Python39\\lib\\site-packages\\sklearn\\metrics\\_classification.py:1245: UndefinedMetricWarning: Precision and F-score are ill-defined and being set to 0.0 in labels with no predicted samples. Use `zero_division` parameter to control this behavior.\n  _warn_prf(average, modifier, msg_start, len(result))\nC:\\Python39\\lib\\site-packages\\sklearn\\metrics\\_classification.py:1245: UndefinedMetricWarning: Precision and F-score are ill-defined and being set to 0.0 in labels with no predicted samples. Use `zero_division` parameter to control this behavior.\n  _warn_prf(average, modifier, msg_start, len(result))\nC:\\Python39\\lib\\site-packages\\sklearn\\metrics\\_classification.py:1245: UndefinedMetricWarning: Precision and F-score are ill-defined and being set to 0.0 in labels with no predicted samples. Use `zero_division` parameter to control this behavior.\n  _warn_prf(average, modifier, msg_start, len(result))\n"
     ]
    },
    {
     "output_type": "execute_result",
     "data": {
      "text/plain": [
       "'              precision    recall  f1-score   support\\n\\n           N       0.94      1.00      0.97        49\\n           Y       0.00      0.00      0.00         3\\n\\n    accuracy                           0.94        52\\n   macro avg       0.47      0.50      0.49        52\\nweighted avg       0.89      0.94      0.91        52\\n'"
      ]
     },
     "metadata": {},
     "execution_count": 143
    }
   ],
   "source": [
    "metrics.classification_report(y_test, y_pred)"
   ]
  },
  {
   "cell_type": "code",
   "execution_count": 145,
   "metadata": {},
   "outputs": [],
   "source": [
    "reg_knn = KNeighborsClassifier()\n",
    "reg_knn.fit(X_train, y_train)\n",
    "y_pred = reg_knn.predict(X_test)"
   ]
  },
  {
   "cell_type": "code",
   "execution_count": 146,
   "metadata": {},
   "outputs": [
    {
     "output_type": "stream",
     "name": "stderr",
     "text": [
      "C:\\Python39\\lib\\site-packages\\sklearn\\metrics\\_classification.py:1245: UndefinedMetricWarning: Precision and F-score are ill-defined and being set to 0.0 in labels with no predicted samples. Use `zero_division` parameter to control this behavior.\n  _warn_prf(average, modifier, msg_start, len(result))\nC:\\Python39\\lib\\site-packages\\sklearn\\metrics\\_classification.py:1245: UndefinedMetricWarning: Precision and F-score are ill-defined and being set to 0.0 in labels with no predicted samples. Use `zero_division` parameter to control this behavior.\n  _warn_prf(average, modifier, msg_start, len(result))\nC:\\Python39\\lib\\site-packages\\sklearn\\metrics\\_classification.py:1245: UndefinedMetricWarning: Precision and F-score are ill-defined and being set to 0.0 in labels with no predicted samples. Use `zero_division` parameter to control this behavior.\n  _warn_prf(average, modifier, msg_start, len(result))\n"
     ]
    },
    {
     "output_type": "execute_result",
     "data": {
      "text/plain": [
       "'              precision    recall  f1-score   support\\n\\n           N       0.94      1.00      0.97        49\\n           Y       0.00      0.00      0.00         3\\n\\n    accuracy                           0.94        52\\n   macro avg       0.47      0.50      0.49        52\\nweighted avg       0.89      0.94      0.91        52\\n'"
      ]
     },
     "metadata": {},
     "execution_count": 146
    }
   ],
   "source": [
    "metrics.classification_report(y_test, y_pred)"
   ]
  },
  {
   "cell_type": "code",
   "execution_count": 151,
   "metadata": {},
   "outputs": [],
   "source": [
    "live_ball = teams.set_index(teams['yearID'])\n",
    "live_ball = dead_ball.loc['1920':]"
   ]
  },
  {
   "cell_type": "code",
   "execution_count": 153,
   "metadata": {},
   "outputs": [
    {
     "output_type": "execute_result",
     "data": {
      "text/plain": [
       "        yearID lgID teamID franchID divID  Rank    G  Ghome   W   L  ...   DP  \\\n",
       "yearID                                                               ...        \n",
       "1920      1920   AL    BOS      BOS   NaN     5  154   76.0  72  81  ...  131   \n",
       "1920      1920   NL    BRO      LAD   NaN     1  155   78.0  93  61  ...  118   \n",
       "1920      1920   NL    BSN      ATL   NaN     7  153   74.0  62  90  ...  125   \n",
       "1920      1920   AL    CHA      CHW   NaN     2  154   77.0  96  58  ...  142   \n",
       "1920      1920   NL    CHN      CHC   NaN     5  154   77.0  75  79  ...  112   \n",
       "...        ...  ...    ...      ...   ...   ...  ...    ...  ..  ..  ...  ...   \n",
       "2020      2020   NL    SLN      STL     C     3   58   27.0  30  28  ...   46   \n",
       "2020      2020   AL    TBA      TBD     E     1   60   29.0  40  20  ...   52   \n",
       "2020      2020   AL    TEX      TEX     W     5   60   30.0  22  38  ...   40   \n",
       "2020      2020   AL    TOR      TOR     E     3   60   26.0  32  28  ...   47   \n",
       "2020      2020   NL    WAS      WSN     E     4   60   33.0  26  34  ...   48   \n",
       "\n",
       "           FP                  name               park  attendance  BPF  PPF  \\\n",
       "yearID                                                                         \n",
       "1920    0.972        Boston Red Sox      Fenway Park I    402445.0   96   96   \n",
       "1920    0.966       Brooklyn Robins       Ebbets Field    808722.0  104  103   \n",
       "1920    0.964         Boston Braves       Braves Field    162483.0   95   97   \n",
       "1920    0.969     Chicago White Sox      Comiskey Park    833492.0   99   99   \n",
       "1920    0.965          Chicago Cubs      Wrigley Field    480783.0  101  102   \n",
       "...       ...                   ...                ...         ...  ...  ...   \n",
       "2020    0.983   St. Louis Cardinals  Busch Stadium III         0.0   97   96   \n",
       "2020    0.985        Tampa Bay Rays    Tropicana Field         0.0   96   95   \n",
       "2020    0.981         Texas Rangers   Globe Life Field         0.0  102  102   \n",
       "2020    0.982     Toronto Blue Jays       Sahlen Field         0.0  100   99   \n",
       "2020    0.981  Washington Nationals     Nationals Park         0.0  103  102   \n",
       "\n",
       "        teamIDBR  teamIDlahman45  teamIDretro  \n",
       "yearID                                         \n",
       "1920         BOS             BOS          BOS  \n",
       "1920         BRO             BRO          BRO  \n",
       "1920         BSN             BSN          BSN  \n",
       "1920         CHW             CHA          CHA  \n",
       "1920         CHC             CHN          CHN  \n",
       "...          ...             ...          ...  \n",
       "2020         STL             SLN          SLN  \n",
       "2020         TBR             TBA          TBA  \n",
       "2020         TEX             TEX          TEX  \n",
       "2020         TOR             TOR          TOR  \n",
       "2020         WSN             MON          WAS  \n",
       "\n",
       "[2224 rows x 48 columns]"
      ],
      "text/html": "<div>\n<style scoped>\n    .dataframe tbody tr th:only-of-type {\n        vertical-align: middle;\n    }\n\n    .dataframe tbody tr th {\n        vertical-align: top;\n    }\n\n    .dataframe thead th {\n        text-align: right;\n    }\n</style>\n<table border=\"1\" class=\"dataframe\">\n  <thead>\n    <tr style=\"text-align: right;\">\n      <th></th>\n      <th>yearID</th>\n      <th>lgID</th>\n      <th>teamID</th>\n      <th>franchID</th>\n      <th>divID</th>\n      <th>Rank</th>\n      <th>G</th>\n      <th>Ghome</th>\n      <th>W</th>\n      <th>L</th>\n      <th>...</th>\n      <th>DP</th>\n      <th>FP</th>\n      <th>name</th>\n      <th>park</th>\n      <th>attendance</th>\n      <th>BPF</th>\n      <th>PPF</th>\n      <th>teamIDBR</th>\n      <th>teamIDlahman45</th>\n      <th>teamIDretro</th>\n    </tr>\n    <tr>\n      <th>yearID</th>\n      <th></th>\n      <th></th>\n      <th></th>\n      <th></th>\n      <th></th>\n      <th></th>\n      <th></th>\n      <th></th>\n      <th></th>\n      <th></th>\n      <th></th>\n      <th></th>\n      <th></th>\n      <th></th>\n      <th></th>\n      <th></th>\n      <th></th>\n      <th></th>\n      <th></th>\n      <th></th>\n      <th></th>\n    </tr>\n  </thead>\n  <tbody>\n    <tr>\n      <th>1920</th>\n      <td>1920</td>\n      <td>AL</td>\n      <td>BOS</td>\n      <td>BOS</td>\n      <td>NaN</td>\n      <td>5</td>\n      <td>154</td>\n      <td>76.0</td>\n      <td>72</td>\n      <td>81</td>\n      <td>...</td>\n      <td>131</td>\n      <td>0.972</td>\n      <td>Boston Red Sox</td>\n      <td>Fenway Park I</td>\n      <td>402445.0</td>\n      <td>96</td>\n      <td>96</td>\n      <td>BOS</td>\n      <td>BOS</td>\n      <td>BOS</td>\n    </tr>\n    <tr>\n      <th>1920</th>\n      <td>1920</td>\n      <td>NL</td>\n      <td>BRO</td>\n      <td>LAD</td>\n      <td>NaN</td>\n      <td>1</td>\n      <td>155</td>\n      <td>78.0</td>\n      <td>93</td>\n      <td>61</td>\n      <td>...</td>\n      <td>118</td>\n      <td>0.966</td>\n      <td>Brooklyn Robins</td>\n      <td>Ebbets Field</td>\n      <td>808722.0</td>\n      <td>104</td>\n      <td>103</td>\n      <td>BRO</td>\n      <td>BRO</td>\n      <td>BRO</td>\n    </tr>\n    <tr>\n      <th>1920</th>\n      <td>1920</td>\n      <td>NL</td>\n      <td>BSN</td>\n      <td>ATL</td>\n      <td>NaN</td>\n      <td>7</td>\n      <td>153</td>\n      <td>74.0</td>\n      <td>62</td>\n      <td>90</td>\n      <td>...</td>\n      <td>125</td>\n      <td>0.964</td>\n      <td>Boston Braves</td>\n      <td>Braves Field</td>\n      <td>162483.0</td>\n      <td>95</td>\n      <td>97</td>\n      <td>BSN</td>\n      <td>BSN</td>\n      <td>BSN</td>\n    </tr>\n    <tr>\n      <th>1920</th>\n      <td>1920</td>\n      <td>AL</td>\n      <td>CHA</td>\n      <td>CHW</td>\n      <td>NaN</td>\n      <td>2</td>\n      <td>154</td>\n      <td>77.0</td>\n      <td>96</td>\n      <td>58</td>\n      <td>...</td>\n      <td>142</td>\n      <td>0.969</td>\n      <td>Chicago White Sox</td>\n      <td>Comiskey Park</td>\n      <td>833492.0</td>\n      <td>99</td>\n      <td>99</td>\n      <td>CHW</td>\n      <td>CHA</td>\n      <td>CHA</td>\n    </tr>\n    <tr>\n      <th>1920</th>\n      <td>1920</td>\n      <td>NL</td>\n      <td>CHN</td>\n      <td>CHC</td>\n      <td>NaN</td>\n      <td>5</td>\n      <td>154</td>\n      <td>77.0</td>\n      <td>75</td>\n      <td>79</td>\n      <td>...</td>\n      <td>112</td>\n      <td>0.965</td>\n      <td>Chicago Cubs</td>\n      <td>Wrigley Field</td>\n      <td>480783.0</td>\n      <td>101</td>\n      <td>102</td>\n      <td>CHC</td>\n      <td>CHN</td>\n      <td>CHN</td>\n    </tr>\n    <tr>\n      <th>...</th>\n      <td>...</td>\n      <td>...</td>\n      <td>...</td>\n      <td>...</td>\n      <td>...</td>\n      <td>...</td>\n      <td>...</td>\n      <td>...</td>\n      <td>...</td>\n      <td>...</td>\n      <td>...</td>\n      <td>...</td>\n      <td>...</td>\n      <td>...</td>\n      <td>...</td>\n      <td>...</td>\n      <td>...</td>\n      <td>...</td>\n      <td>...</td>\n      <td>...</td>\n      <td>...</td>\n    </tr>\n    <tr>\n      <th>2020</th>\n      <td>2020</td>\n      <td>NL</td>\n      <td>SLN</td>\n      <td>STL</td>\n      <td>C</td>\n      <td>3</td>\n      <td>58</td>\n      <td>27.0</td>\n      <td>30</td>\n      <td>28</td>\n      <td>...</td>\n      <td>46</td>\n      <td>0.983</td>\n      <td>St. Louis Cardinals</td>\n      <td>Busch Stadium III</td>\n      <td>0.0</td>\n      <td>97</td>\n      <td>96</td>\n      <td>STL</td>\n      <td>SLN</td>\n      <td>SLN</td>\n    </tr>\n    <tr>\n      <th>2020</th>\n      <td>2020</td>\n      <td>AL</td>\n      <td>TBA</td>\n      <td>TBD</td>\n      <td>E</td>\n      <td>1</td>\n      <td>60</td>\n      <td>29.0</td>\n      <td>40</td>\n      <td>20</td>\n      <td>...</td>\n      <td>52</td>\n      <td>0.985</td>\n      <td>Tampa Bay Rays</td>\n      <td>Tropicana Field</td>\n      <td>0.0</td>\n      <td>96</td>\n      <td>95</td>\n      <td>TBR</td>\n      <td>TBA</td>\n      <td>TBA</td>\n    </tr>\n    <tr>\n      <th>2020</th>\n      <td>2020</td>\n      <td>AL</td>\n      <td>TEX</td>\n      <td>TEX</td>\n      <td>W</td>\n      <td>5</td>\n      <td>60</td>\n      <td>30.0</td>\n      <td>22</td>\n      <td>38</td>\n      <td>...</td>\n      <td>40</td>\n      <td>0.981</td>\n      <td>Texas Rangers</td>\n      <td>Globe Life Field</td>\n      <td>0.0</td>\n      <td>102</td>\n      <td>102</td>\n      <td>TEX</td>\n      <td>TEX</td>\n      <td>TEX</td>\n    </tr>\n    <tr>\n      <th>2020</th>\n      <td>2020</td>\n      <td>AL</td>\n      <td>TOR</td>\n      <td>TOR</td>\n      <td>E</td>\n      <td>3</td>\n      <td>60</td>\n      <td>26.0</td>\n      <td>32</td>\n      <td>28</td>\n      <td>...</td>\n      <td>47</td>\n      <td>0.982</td>\n      <td>Toronto Blue Jays</td>\n      <td>Sahlen Field</td>\n      <td>0.0</td>\n      <td>100</td>\n      <td>99</td>\n      <td>TOR</td>\n      <td>TOR</td>\n      <td>TOR</td>\n    </tr>\n    <tr>\n      <th>2020</th>\n      <td>2020</td>\n      <td>NL</td>\n      <td>WAS</td>\n      <td>WSN</td>\n      <td>E</td>\n      <td>4</td>\n      <td>60</td>\n      <td>33.0</td>\n      <td>26</td>\n      <td>34</td>\n      <td>...</td>\n      <td>48</td>\n      <td>0.981</td>\n      <td>Washington Nationals</td>\n      <td>Nationals Park</td>\n      <td>0.0</td>\n      <td>103</td>\n      <td>102</td>\n      <td>WSN</td>\n      <td>MON</td>\n      <td>WAS</td>\n    </tr>\n  </tbody>\n</table>\n<p>2224 rows × 48 columns</p>\n</div>"
     },
     "metadata": {},
     "execution_count": 153
    }
   ],
   "source": [
    "live_ball"
   ]
  },
  {
   "cell_type": "code",
   "execution_count": null,
   "metadata": {},
   "outputs": [],
   "source": []
  }
 ]
}